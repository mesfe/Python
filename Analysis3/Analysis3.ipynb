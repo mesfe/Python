{
 "cells": [
  {
   "cell_type": "markdown",
   "metadata": {},
   "source": [
    "# Analysis 3 - Sentiment Analysis"
   ]
  },
  {
   "cell_type": "markdown",
   "metadata": {
    "collapsed": true
   },
   "source": [
    "Here I will do sentiment analysis on review table"
   ]
  },
  {
   "cell_type": "code",
   "execution_count": 5,
   "metadata": {
    "collapsed": true
   },
   "outputs": [],
   "source": [
    "#Sentiment analysis is a technique in natural language processing which aims to retrieve the \"sentiment\" of a piece \n",
    "#of text—positive, negative, or neutral. This is an easy way of summarizing the contents of a piece of text, \n",
    "#and one that is easily understood.\n",
    "\n",
    "import numpy as np\n",
    "import pandas as pd\n",
    "import seaborn as sns\n",
    "from nltk.sentiment.vader import SentimentIntensityAnalyzer\n",
    "sid = SentimentIntensityAnalyzer()\n",
    "\n",
    "\n",
    "reviews = pd.read_csv(\"../finaldata/reviews_all.csv\", encoding = \"ISO-8859-1\",low_memory=False)\n",
    "\n",
    "\n"
   ]
  },
  {
   "cell_type": "code",
   "execution_count": 6,
   "metadata": {
    "collapsed": true
   },
   "outputs": [],
   "source": [
    "#reviews contain null values\n",
    "\n",
    "reviews_df = [r for r in reviews['comments'] if pd.notnull(r)]"
   ]
  },
  {
   "cell_type": "code",
   "execution_count": 9,
   "metadata": {
    "collapsed": true
   },
   "outputs": [],
   "source": [
    "#which city you want to do the sentiment analysis for?\n",
    "\n",
    "cityvar='boston'"
   ]
  },
  {
   "cell_type": "code",
   "execution_count": 10,
   "metadata": {
    "collapsed": false
   },
   "outputs": [],
   "source": [
    "# using SentimentIntensityAnalyzer() function from nltk library give use a list of four values for each comment:\n",
    "#compound, positivity, negativity and neutrality\n",
    "\n",
    "pscore= reviews['comments'][reviews['city']==cityvar].apply(lambda x: sid.polarity_scores(x) if pd.notnull(x) else {'compound': 0.0, 'neg': 0.0, 'neu': 0.0, 'pos': 0.0} )\n"
   ]
  },
  {
   "cell_type": "code",
   "execution_count": 11,
   "metadata": {
    "collapsed": true
   },
   "outputs": [],
   "source": [
    "#creating a dataframe containing reviews and polarity scores\n",
    "scored_reviews = pd.DataFrame()\n",
    "scored_reviews[['comments','city']] = reviews[['comments','city']][reviews['city']==cityvar]\n",
    "scored_reviews['compound'] = [score['compound'] for score in pscore]\n",
    "scored_reviews['negativity'] = [score['neg'] for score in pscore]\n",
    "scored_reviews['neutrality'] = [score['neu'] for score in pscore]\n",
    "scored_reviews['positivity'] = [score['pos'] for score in pscore]"
   ]
  },
  {
   "cell_type": "code",
   "execution_count": 12,
   "metadata": {
    "collapsed": true
   },
   "outputs": [],
   "source": [
    "#writing the dataframe to csv\n",
    "\n",
    "scored_reviews.to_csv(cityvar+\"_polarity_scores.csv\")"
   ]
  },
  {
   "cell_type": "code",
   "execution_count": 13,
   "metadata": {
    "collapsed": false,
    "scrolled": true
   },
   "outputs": [
    {
     "data": {
      "image/png": "[encoded data removed]",
      "text/plain": [
       "<matplotlib.figure.Figure at 0x1b99f89e160>"
      ]
     },
     "metadata": {},
     "output_type": "display_data"
    }
   ],
   "source": [
    "#creating a plot with 4 subplots, each for one of the polarity scores\n",
    "\n",
    "%matplotlib inline\n",
    "import seaborn as sns\n",
    "import matplotlib.pyplot as plt\n",
    "import matplotlib.patches as patches\n",
    "\n",
    "\n",
    "fig, axes = plt.subplots(2, 2, sharex=False, sharey=False) \n",
    "\n",
    "polarity= ['compound','neutrality','negativity','positivity']\n",
    "color=[\"yellow\", \"red\", \"blue\", \"green\"]\n",
    "for i in range(2):\n",
    "    for j in range(2):\n",
    "        \n",
    "        axes[i, j].hist(pd.Series(scored_reviews[polarity[i+j*2]]), color=color[i+j*2])\n",
    "        axes[i,j].title.set_text(polarity[i+j*2])\n",
    "      \n",
    "plt.subplots_adjust(wspace=0.3, hspace=0.3)\n",
    "\n",
    "\n",
    "fig.text(0.5, 0.02, 'Polarity Score', ha='center', va='center')\n",
    "fig.text(0.02, 0.5, 'Count of Revirews for '+cityvar, ha='center', va='center', rotation='vertical')\n",
    "\n",
    "plt.savefig(cityvar+'_subplots.png',bbox_inches='tight')\n",
    "\n",
    "plt.show()"
   ]
  },
  {
   "cell_type": "markdown",
   "metadata": {
    "collapsed": true
   },
   "source": [
    "Almost none of the texts are classified as having significant amounts of negativity! \n",
    "In fact, a significant amount of them are given exactly 0.0 negativity.\n",
    "\n",
    "Although the compound score is supposed to be the best estimate of overall sentiment , the fact that negativities are ranked so lowly and neutralities so high hints that we're doing a not so great job with this."
   ]
  }
 ],
 "metadata": {
  "kernelspec": {
   "display_name": "Python [Root]",
   "language": "python",
   "name": "Python [Root]"
  },
  "language_info": {
   "codemirror_mode": {
    "name": "ipython",
    "version": 3
   },
   "file_extension": ".py",
   "mimetype": "text/x-python",
   "name": "python",
   "nbconvert_exporter": "python",
   "pygments_lexer": "ipython3",
   "version": "3.5.2"
  }
 },
 "nbformat": 4,
 "nbformat_minor": 0
}
